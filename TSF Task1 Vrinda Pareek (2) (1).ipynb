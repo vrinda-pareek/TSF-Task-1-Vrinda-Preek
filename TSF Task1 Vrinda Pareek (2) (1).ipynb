{
 "cells": [
  {
   "cell_type": "markdown",
   "id": "7f6de2b1",
   "metadata": {},
   "source": [
    "## <center>The Sparks Foundation</center>\n",
    "## <center><b>TASK - 1</b></center>\n",
    "## <center><b>Predicaion using Supervised Machine Learning</b></center>\n",
    "### <center><b>Author: Vrinda Pareek (Data Science and Business Analysis Intern)</b></center>\n",
    "\n",
    "In this task we have to predict the percentage of an student based on the number of study hours. This is a simple regression task avariables.\n"
   ]
  },
  {
   "cell_type": "markdown",
   "id": "ee3e9bd9",
   "metadata": {},
   "source": [
    "### Importing libraries\n"
   ]
  },
  {
   "cell_type": "code",
   "execution_count": 1,
   "id": "704cdb6d",
   "metadata": {},
   "outputs": [],
   "source": [
    "import pandas as pd\n",
    "import numpy as np\n",
    "import matplotlib.pyplot as plt\n",
    "%matplotlib inline\n",
    "import seaborn as sns"
   ]
  },
  {
   "cell_type": "markdown",
   "id": "b31d055e",
   "metadata": {},
   "source": [
    "### Loading dataset\n"
   ]
  },
  {
   "cell_type": "code",
   "execution_count": 2,
   "id": "f714564a",
   "metadata": {},
   "outputs": [
    {
     "data": {
      "text/html": [
       "<div>\n",
       "<style scoped>\n",
       "    .dataframe tbody tr th:only-of-type {\n",
       "        vertical-align: middle;\n",
       "    }\n",
       "\n",
       "    .dataframe tbody tr th {\n",
       "        vertical-align: top;\n",
       "    }\n",
       "\n",
       "    .dataframe thead th {\n",
       "        text-align: right;\n",
       "    }\n",
       "</style>\n",
       "<table border=\"1\" class=\"dataframe\">\n",
       "  <thead>\n",
       "    <tr style=\"text-align: right;\">\n",
       "      <th></th>\n",
       "      <th>Hours</th>\n",
       "      <th>Scores</th>\n",
       "    </tr>\n",
       "  </thead>\n",
       "  <tbody>\n",
       "    <tr>\n",
       "      <th>0</th>\n",
       "      <td>2.5</td>\n",
       "      <td>21</td>\n",
       "    </tr>\n",
       "    <tr>\n",
       "      <th>1</th>\n",
       "      <td>5.1</td>\n",
       "      <td>47</td>\n",
       "    </tr>\n",
       "    <tr>\n",
       "      <th>2</th>\n",
       "      <td>3.2</td>\n",
       "      <td>27</td>\n",
       "    </tr>\n",
       "    <tr>\n",
       "      <th>3</th>\n",
       "      <td>8.5</td>\n",
       "      <td>75</td>\n",
       "    </tr>\n",
       "    <tr>\n",
       "      <th>4</th>\n",
       "      <td>3.5</td>\n",
       "      <td>30</td>\n",
       "    </tr>\n",
       "  </tbody>\n",
       "</table>\n",
       "</div>"
      ],
      "text/plain": [
       "   Hours  Scores\n",
       "0    2.5      21\n",
       "1    5.1      47\n",
       "2    3.2      27\n",
       "3    8.5      75\n",
       "4    3.5      30"
      ]
     },
     "execution_count": 2,
     "metadata": {},
     "output_type": "execute_result"
    }
   ],
   "source": [
    "fileurl= \"https://raw.githubusercontent.com/vrinda-pareek/task1/main/Task1%20Dataset%20(1).csv\"\n",
    "data= pd.read_csv(fileurl)\n",
    "data.head()"
   ]
  },
  {
   "cell_type": "markdown",
   "id": "b2dbf771",
   "metadata": {},
   "source": [
    "### Finding the size of data"
   ]
  },
  {
   "cell_type": "markdown",
   "id": "247d79a5",
   "metadata": {},
   "source": [
    "In this section we use \"shape\" attribute of Dataframe which returns a tuple in which first element represents the number of rows and second one represents the number of columns."
   ]
  },
  {
   "cell_type": "code",
   "execution_count": 3,
   "id": "0c0781bd",
   "metadata": {},
   "outputs": [
    {
     "data": {
      "text/plain": [
       "(25, 2)"
      ]
     },
     "execution_count": 3,
     "metadata": {},
     "output_type": "execute_result"
    }
   ],
   "source": [
    "data.shape"
   ]
  },
  {
   "cell_type": "markdown",
   "id": "e3a8ec50",
   "metadata": {},
   "source": [
    "### Looking for null values"
   ]
  },
  {
   "cell_type": "code",
   "execution_count": 4,
   "id": "1ce1b9f6",
   "metadata": {},
   "outputs": [
    {
     "name": "stdout",
     "output_type": "stream",
     "text": [
      "<class 'pandas.core.frame.DataFrame'>\n",
      "RangeIndex: 25 entries, 0 to 24\n",
      "Data columns (total 2 columns):\n",
      " #   Column  Non-Null Count  Dtype  \n",
      "---  ------  --------------  -----  \n",
      " 0   Hours   25 non-null     float64\n",
      " 1   Scores  25 non-null     int64  \n",
      "dtypes: float64(1), int64(1)\n",
      "memory usage: 528.0 bytes\n"
     ]
    }
   ],
   "source": [
    "data.info()"
   ]
  },
  {
   "cell_type": "markdown",
   "id": "2732085a",
   "metadata": {},
   "source": [
    "As we can see above that, there are no null values in the dataset. So no requirement of dealing with missing values."
   ]
  },
  {
   "cell_type": "markdown",
   "id": "becacf32",
   "metadata": {},
   "source": [
    "### Summary Statistics"
   ]
  },
  {
   "cell_type": "code",
   "execution_count": 5,
   "id": "740f5d9a",
   "metadata": {},
   "outputs": [
    {
     "data": {
      "text/html": [
       "<div>\n",
       "<style scoped>\n",
       "    .dataframe tbody tr th:only-of-type {\n",
       "        vertical-align: middle;\n",
       "    }\n",
       "\n",
       "    .dataframe tbody tr th {\n",
       "        vertical-align: top;\n",
       "    }\n",
       "\n",
       "    .dataframe thead th {\n",
       "        text-align: right;\n",
       "    }\n",
       "</style>\n",
       "<table border=\"1\" class=\"dataframe\">\n",
       "  <thead>\n",
       "    <tr style=\"text-align: right;\">\n",
       "      <th></th>\n",
       "      <th>Hours</th>\n",
       "      <th>Scores</th>\n",
       "    </tr>\n",
       "  </thead>\n",
       "  <tbody>\n",
       "    <tr>\n",
       "      <th>count</th>\n",
       "      <td>25.000000</td>\n",
       "      <td>25.000000</td>\n",
       "    </tr>\n",
       "    <tr>\n",
       "      <th>mean</th>\n",
       "      <td>5.012000</td>\n",
       "      <td>51.480000</td>\n",
       "    </tr>\n",
       "    <tr>\n",
       "      <th>std</th>\n",
       "      <td>2.525094</td>\n",
       "      <td>25.286887</td>\n",
       "    </tr>\n",
       "    <tr>\n",
       "      <th>min</th>\n",
       "      <td>1.100000</td>\n",
       "      <td>17.000000</td>\n",
       "    </tr>\n",
       "    <tr>\n",
       "      <th>25%</th>\n",
       "      <td>2.700000</td>\n",
       "      <td>30.000000</td>\n",
       "    </tr>\n",
       "    <tr>\n",
       "      <th>50%</th>\n",
       "      <td>4.800000</td>\n",
       "      <td>47.000000</td>\n",
       "    </tr>\n",
       "    <tr>\n",
       "      <th>75%</th>\n",
       "      <td>7.400000</td>\n",
       "      <td>75.000000</td>\n",
       "    </tr>\n",
       "    <tr>\n",
       "      <th>max</th>\n",
       "      <td>9.200000</td>\n",
       "      <td>95.000000</td>\n",
       "    </tr>\n",
       "  </tbody>\n",
       "</table>\n",
       "</div>"
      ],
      "text/plain": [
       "           Hours     Scores\n",
       "count  25.000000  25.000000\n",
       "mean    5.012000  51.480000\n",
       "std     2.525094  25.286887\n",
       "min     1.100000  17.000000\n",
       "25%     2.700000  30.000000\n",
       "50%     4.800000  47.000000\n",
       "75%     7.400000  75.000000\n",
       "max     9.200000  95.000000"
      ]
     },
     "execution_count": 5,
     "metadata": {},
     "output_type": "execute_result"
    }
   ],
   "source": [
    "data.describe()"
   ]
  },
  {
   "cell_type": "markdown",
   "id": "1104d34d",
   "metadata": {},
   "source": [
    "### Observations\n",
    "1. The Mean value is greater than the median value.(50% percentile)\n",
    "2. The diffrence between 50% percentile value and 75% percentile value is very samll.\n",
    "3. From above observations, we can draw the inference that there are no outliers present in the data.\n"
   ]
  },
  {
   "cell_type": "markdown",
   "id": "2b28afcb",
   "metadata": {},
   "source": [
    "### Checking for the data in the Boxplot"
   ]
  },
  {
   "cell_type": "code",
   "execution_count": 6,
   "id": "f4f25728",
   "metadata": {},
   "outputs": [
    {
     "name": "stderr",
     "output_type": "stream",
     "text": [
      "<ipython-input-6-5472d4490da6>:6: MatplotlibDeprecationWarning: Passing non-integers as three-element position specification is deprecated since 3.3 and will be removed two minor releases later.\n",
      "  plt.subplot(number_of_rows+1,number_of_columns,i+1)\n",
      "c:\\users\\vrinda pareek\\appdata\\local\\programs\\python\\python38\\lib\\site-packages\\seaborn\\_decorators.py:36: FutureWarning: Pass the following variable as a keyword arg: x. From version 0.12, the only valid positional argument will be `data`, and passing other arguments without an explicit keyword will result in an error or misinterpretation.\n",
      "  warnings.warn(\n",
      "<ipython-input-6-5472d4490da6>:6: MatplotlibDeprecationWarning: Passing non-integers as three-element position specification is deprecated since 3.3 and will be removed two minor releases later.\n",
      "  plt.subplot(number_of_rows+1,number_of_columns,i+1)\n",
      "c:\\users\\vrinda pareek\\appdata\\local\\programs\\python\\python38\\lib\\site-packages\\seaborn\\_decorators.py:36: FutureWarning: Pass the following variable as a keyword arg: x. From version 0.12, the only valid positional argument will be `data`, and passing other arguments without an explicit keyword will result in an error or misinterpretation.\n",
      "  warnings.warn(\n"
     ]
    },
    {
     "data": {
      "image/png": "[encoded data removed]",
      "text/plain": [
       "<Figure size 720x360 with 2 Axes>"
      ]
     },
     "metadata": {
      "needs_background": "light"
     },
     "output_type": "display_data"
    }
   ],
   "source": [
    "l = data.columns.values\n",
    "number_of_columns= 2\n",
    "number_of_rows = (len(l)-1)/number_of_columns\n",
    "plt.figure(figsize =  (10,5))\n",
    "for i in range(0, len(l)):\n",
    "    plt.subplot(number_of_rows+1,number_of_columns,i+1)\n",
    "    sns.set_style('whitegrid')\n",
    "    sns.boxplot(data[l[i]] , color='purple')\n",
    "    plt.tight_layout()"
   ]
  },
  {
   "cell_type": "markdown",
   "id": "627f8f08",
   "metadata": {},
   "source": [
    "This boxplot verifies that there are no outliers present in data."
   ]
  },
  {
   "cell_type": "markdown",
   "id": "b3136640",
   "metadata": {},
   "source": [
    "### Finding Correlation between the Variables"
   ]
  },
  {
   "cell_type": "code",
   "execution_count": 7,
   "id": "624c325b",
   "metadata": {},
   "outputs": [
    {
     "data": {
      "text/plain": [
       "<AxesSubplot:>"
      ]
     },
     "execution_count": 7,
     "metadata": {},
     "output_type": "execute_result"
    },
    {
     "data": {
      "image/png": "[encoded data removed]",
      "text/plain": [
       "<Figure size 432x288 with 2 Axes>"
      ]
     },
     "metadata": {},
     "output_type": "display_data"
    }
   ],
   "source": [
    "correlation = data.corr()\n",
    "sns.heatmap(correlation, annot = True, cmap = \"viridis\")"
   ]
  },
  {
   "cell_type": "markdown",
   "id": "5bfd7ed5",
   "metadata": {},
   "source": [
    "From the above heatmap, we can see that both input and target variable are highly correlated in positive direction."
   ]
  },
  {
   "cell_type": "markdown",
   "id": "4b012ec0",
   "metadata": {},
   "source": [
    "### Finding relation between input and target variable using Scatter Plot"
   ]
  },
  {
   "cell_type": "code",
   "execution_count": 8,
   "id": "b7370cae",
   "metadata": {},
   "outputs": [
    {
     "data": {
      "image/png": "[encoded data removed]",
      "text/plain": [
       "<Figure size 432x288 with 1 Axes>"
      ]
     },
     "metadata": {},
     "output_type": "display_data"
    }
   ],
   "source": [
    "plt.scatter(data['Hours'], data['Scores'], c = \"orange\")\n",
    "plt.title(\"Scatter Plot between Hours and Percentage\")\n",
    "plt.xlabel(\"Number of Hours\")\n",
    "plt.ylabel(\"Percentage\")\n",
    "plt.show()"
   ]
  },
  {
   "cell_type": "markdown",
   "id": "be86aa53",
   "metadata": {},
   "source": [
    "The above scatter plot shows that if a student increases his/her study hours, his/her score might also increase."
   ]
  },
  {
   "cell_type": "markdown",
   "id": "da6d17d8",
   "metadata": {},
   "source": [
    "### Data Preparation for Model Creation"
   ]
  },
  {
   "cell_type": "code",
   "execution_count": 9,
   "id": "dab7484f",
   "metadata": {},
   "outputs": [],
   "source": [
    "X = data[\"Hours\"].values.reshape(-1,1)\n",
    "Y = data[\"Scores\"].values.reshape(-1,1)"
   ]
  },
  {
   "cell_type": "code",
   "execution_count": 10,
   "id": "85ebd151",
   "metadata": {},
   "outputs": [
    {
     "name": "stdout",
     "output_type": "stream",
     "text": [
      "Training Set X :  (20, 1)\n",
      "Training Set Y :  (20, 1)\n",
      "Test Set X :  (5, 1)\n",
      "Test Set Y :  (5, 1)\n"
     ]
    }
   ],
   "source": [
    "from sklearn.model_selection import train_test_split\n",
    "x_train, x_test, y_train, y_test = train_test_split(X,Y, test_size = 0.2, random_state = 0)\n",
    "print(\"Training Set X : \", x_train.shape)\n",
    "print(\"Training Set Y : \", y_train.shape)\n",
    "print(\"Test Set X : \", x_test.shape)\n",
    "print(\"Test Set Y : \", y_test.shape)"
   ]
  },
  {
   "cell_type": "markdown",
   "id": "8d41a56c",
   "metadata": {},
   "source": [
    "### Model Creation"
   ]
  },
  {
   "cell_type": "code",
   "execution_count": 11,
   "id": "6efce9a0",
   "metadata": {},
   "outputs": [],
   "source": [
    "from sklearn.linear_model import LinearRegression"
   ]
  },
  {
   "cell_type": "code",
   "execution_count": 12,
   "id": "3382714e",
   "metadata": {},
   "outputs": [
    {
     "name": "stdout",
     "output_type": "stream",
     "text": [
      "Coefficient:  [[9.91065648]]\n",
      "Intercept:  [2.01816004]\n"
     ]
    }
   ],
   "source": [
    "model =  LinearRegression()\n",
    "model.fit(x_train, y_train)\n",
    "print(\"Coefficient: \", model.coef_)\n",
    "print(\"Intercept: \", model.intercept_)\n"
   ]
  },
  {
   "cell_type": "code",
   "execution_count": 13,
   "id": "6bdba388",
   "metadata": {},
   "outputs": [
    {
     "data": {
      "image/png": "[encoded data removed]",
      "text/plain": [
       "<Figure size 432x288 with 1 Axes>"
      ]
     },
     "metadata": {},
     "output_type": "display_data"
    }
   ],
   "source": [
    "line  = model.coef_*X + model.intercept_\n",
    "plt.scatter(X, Y, c = 'orange')\n",
    "plt.plot(X,line)\n",
    "plt.xlabel(\"Number of Hours\")\n",
    "plt.ylabel(\"Score\")\n",
    "plt.title(\"Regression Plot\")\n",
    "plt.show()\n"
   ]
  },
  {
   "cell_type": "markdown",
   "id": "ca206b51",
   "metadata": {},
   "source": [
    "### Prediction using the Created Model"
   ]
  },
  {
   "cell_type": "code",
   "execution_count": 14,
   "id": "5009b3a8",
   "metadata": {},
   "outputs": [
    {
     "data": {
      "text/plain": [
       "array([[16.88414476],\n",
       "       [33.73226078],\n",
       "       [75.357018  ],\n",
       "       [26.79480124],\n",
       "       [60.49103328]])"
      ]
     },
     "execution_count": 14,
     "metadata": {},
     "output_type": "execute_result"
    }
   ],
   "source": [
    "y_rslt = model.predict(x_test)\n",
    "y_rslt"
   ]
  },
  {
   "cell_type": "markdown",
   "id": "853a4d5b",
   "metadata": {},
   "source": [
    "### Model Evaluation"
   ]
  },
  {
   "cell_type": "code",
   "execution_count": 15,
   "id": "08ceaa1b",
   "metadata": {},
   "outputs": [],
   "source": [
    "from sklearn.metrics import r2_score, mean_absolute_error "
   ]
  },
  {
   "cell_type": "code",
   "execution_count": 16,
   "id": "40508758",
   "metadata": {},
   "outputs": [
    {
     "name": "stdout",
     "output_type": "stream",
     "text": [
      "Mean Absolute Error :  4.183859899002975\n",
      "R2_score :  0.9454906892105355\n",
      "R2_score % :  94.54906892105355\n"
     ]
    }
   ],
   "source": [
    "print(\"Mean Absolute Error : \", mean_absolute_error(y_test, y_rslt))\n",
    "print(\"R2_score : \", r2_score(y_test, y_rslt))\n",
    "print (\"R2_score % : \", r2_score(y_test, y_rslt)*100 )"
   ]
  },
  {
   "cell_type": "markdown",
   "id": "a81cb8c0",
   "metadata": {},
   "source": [
    "### Final Observations\n",
    "1. We observe that the predicted values have very minimal error.\n",
    "2. Overall accuracy of the model is 94%"
   ]
  },
  {
   "cell_type": "markdown",
   "id": "9e9c0363",
   "metadata": {},
   "source": [
    "### Prediction Using Model"
   ]
  },
  {
   "cell_type": "markdown",
   "id": "a0d02fa4",
   "metadata": {},
   "source": [
    "#### What will be predicted score if a student studies for 9.25 hrs/ day?\n"
   ]
  },
  {
   "cell_type": "code",
   "execution_count": 17,
   "id": "2917b601",
   "metadata": {},
   "outputs": [
    {
     "data": {
      "text/plain": [
       "array([[93.7]])"
      ]
     },
     "execution_count": 17,
     "metadata": {},
     "output_type": "execute_result"
    }
   ],
   "source": [
    "Hour = np.array([9.25]).reshape(-1,1) \n",
    "Percentage = model.predict(Hour)\n",
    "Percentage = np.round(Percentage, decimals = 1)\n",
    "Percentage"
   ]
  },
  {
   "cell_type": "markdown",
   "id": "26baf7a0",
   "metadata": {},
   "source": [
    "##### Here, the Linear regression model predicts that if a Student study for 9.25 hours, then he/she will get approximately 93.7% score.`"
   ]
  }
 ],
 "metadata": {
  "kernelspec": {
   "display_name": "Python 3",
   "language": "python",
   "name": "python3"
  },
  "language_info": {
   "codemirror_mode": {
    "name": "ipython",
    "version": 3
   },
   "file_extension": ".py",
   "mimetype": "text/x-python",
   "name": "python",
   "nbconvert_exporter": "python",
   "pygments_lexer": "ipython3",
   "version": "3.8.7"
  }
 },
 "nbformat": 4,
 "nbformat_minor": 5
}
